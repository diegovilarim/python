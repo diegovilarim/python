{
  "nbformat": 4,
  "nbformat_minor": 0,
  "metadata": {
    "colab": {
      "provenance": [],
      "collapsed_sections": [],
      "authorship_tag": "ABX9TyPDV0/CQ/pV2JylWtWQbvie",
      "include_colab_link": true
    },
    "kernelspec": {
      "name": "python3",
      "display_name": "Python 3"
    },
    "language_info": {
      "name": "python"
    }
  },
  "cells": [
    {
      "cell_type": "markdown",
      "metadata": {
        "id": "view-in-github",
        "colab_type": "text"
      },
      "source": [
        "<a href=\"https://colab.research.google.com/github/diegovilarim/python/blob/main/Parte1_Aula_4.ipynb\" target=\"_parent\"><img src=\"https://colab.research.google.com/assets/colab-badge.svg\" alt=\"Open In Colab\"/></a>"
      ]
    },
    {
      "cell_type": "code",
      "execution_count": 1,
      "metadata": {
        "id": "2AVJfDFubp4U"
      },
      "outputs": [],
      "source": [
        "#Quais as features, ou seja, as características dos pacientes?\n",
        "#Tossindo?\n",
        "#Espirrando?\n",
        "#Falta de ar?\n",
        "#Febre?\n",
        "#Vamos usar 0 para não e 1 para sim\n",
        "\n",
        "gripado1 = [1, 1, 1, 1]\n",
        "gripado2 = [0, 1, 0, 0]\n",
        "gripado3 = [1, 0, 0, 1]\n",
        "gripado4 = [1, 1, 0, 1]\n",
        "\n",
        "alergico1 = [1, 1, 0, 0]\n",
        "alergico2 = [0, 1, 0, 0]\n",
        "alergico3 = [1, 0, 1, 0]\n",
        "alergico4 = [0, 1, 1, 0]"
      ]
    },
    {
      "cell_type": "code",
      "source": [
        "dados = [gripado1, gripado2, gripado3, gripado4, alergico1, alergico2, alergico3, alergico4]\n",
        "#categoria 1 = gripado, 0 = alérgico\n",
        "categorias = [1, 1, 1, 1, 0, 0, 0, 0]"
      ],
      "metadata": {
        "id": "ngtAUC9WmFS2"
      },
      "execution_count": 2,
      "outputs": []
    },
    {
      "cell_type": "code",
      "source": [
        "from sklearn.svm import LinearSVC"
      ],
      "metadata": {
        "id": "lFZyxrQXmaDW"
      },
      "execution_count": 3,
      "outputs": []
    },
    {
      "cell_type": "markdown",
      "source": [
        "**Rodando nosso treino**"
      ],
      "metadata": {
        "id": "OSw8HEEengh5"
      }
    },
    {
      "cell_type": "code",
      "source": [
        "modelo = LinearSVC()\n",
        "modelo.fit(dados, categorias)"
      ],
      "metadata": {
        "colab": {
          "base_uri": "https://localhost:8080/"
        },
        "id": "tM6s0eUPnj6J",
        "outputId": "57b8f542-10a5-4c38-b565-6d10dafc6b8d"
      },
      "execution_count": 5,
      "outputs": [
        {
          "output_type": "execute_result",
          "data": {
            "text/plain": [
              "LinearSVC()"
            ]
          },
          "metadata": {},
          "execution_count": 5
        }
      ]
    },
    {
      "cell_type": "markdown",
      "source": [
        "**Definindo dados de teste**"
      ],
      "metadata": {
        "id": "Kbh1XrADn988"
      }
    },
    {
      "cell_type": "code",
      "source": [
        "paciente1 = [0, 1, 0, 1]\n",
        "paciente2 = [0, 0, 0, 0]\n",
        "paciente3 = [1, 1, 1, 1]\n",
        "paciente4 = [0, 1, 0, 1]\n",
        "\n",
        "dados_teste = [paciente1, paciente2, paciente3, paciente4]"
      ],
      "metadata": {
        "id": "TSqyl7KcoAjO"
      },
      "execution_count": 6,
      "outputs": []
    },
    {
      "cell_type": "markdown",
      "source": [
        "**Testando**"
      ],
      "metadata": {
        "id": "p2p7uOvepI7I"
      }
    },
    {
      "cell_type": "code",
      "source": [
        "modelo.predict(dados_teste)"
      ],
      "metadata": {
        "colab": {
          "base_uri": "https://localhost:8080/"
        },
        "id": "OzcaVq3xpLDY",
        "outputId": "e4d8760c-2b44-49aa-853d-2d6946df8d56"
      },
      "execution_count": 7,
      "outputs": [
        {
          "output_type": "execute_result",
          "data": {
            "text/plain": [
              "array([1, 0, 1, 1])"
            ]
          },
          "metadata": {},
          "execution_count": 7
        }
      ]
    },
    {
      "cell_type": "markdown",
      "source": [
        "**Dado um novo paciente, vamos avaliar a possibilidade de ele estar gripado**"
      ],
      "metadata": {
        "id": "VYgdKlNEqANN"
      }
    },
    {
      "cell_type": "code",
      "source": [
        "novo_paciente = [0, 1, 0, 0]\n",
        "modelo.predict([novo_paciente])"
      ],
      "metadata": {
        "colab": {
          "base_uri": "https://localhost:8080/"
        },
        "id": "lOYqQvcZqHQQ",
        "outputId": "2a244835-0665-489d-92c7-3b99696343dd"
      },
      "execution_count": 8,
      "outputs": [
        {
          "output_type": "execute_result",
          "data": {
            "text/plain": [
              "array([0])"
            ]
          },
          "metadata": {},
          "execution_count": 8
        }
      ]
    },
    {
      "cell_type": "code",
      "source": [
        "if (modelo.predict([novo_paciente]) == 0):\n",
        "  print('Paciente potencialmente alérgico')\n",
        "else:\n",
        "  print('Paciente potencialmente gripado')"
      ],
      "metadata": {
        "colab": {
          "base_uri": "https://localhost:8080/"
        },
        "id": "Q_NQnb3pqrpy",
        "outputId": "fe58e570-6a60-4a18-a91c-3e20e161795a"
      },
      "execution_count": 9,
      "outputs": [
        {
          "output_type": "stream",
          "name": "stdout",
          "text": [
            "Paciente potencialmente alérgico\n"
          ]
        }
      ]
    },
    {
      "cell_type": "markdown",
      "source": [
        "**Vamos salvar a aplicação do nosso modelo sobre os dados de teste na variável predições**"
      ],
      "metadata": {
        "id": "nMtNo2uHr8n4"
      }
    },
    {
      "cell_type": "code",
      "source": [
        "predicoes = modelo.predict(dados_teste)"
      ],
      "metadata": {
        "id": "JQ4LLVy1sCVr"
      },
      "execution_count": 10,
      "outputs": []
    },
    {
      "cell_type": "code",
      "source": [
        "#Vamos supor que temos casos com exames que confirmaram o seguinte sobre os pacientes terem gripe ou não.\n",
        "#Vamos comparar nosso modelo com a realidade\n",
        "exames = [1, 0, 1, 0]"
      ],
      "metadata": {
        "id": "h5VdpdW-sHYP"
      },
      "execution_count": 11,
      "outputs": []
    },
    {
      "cell_type": "code",
      "source": [
        "predicoes == exames"
      ],
      "metadata": {
        "colab": {
          "base_uri": "https://localhost:8080/"
        },
        "id": "dkS93IwSsoG7",
        "outputId": "60c865a9-0218-4046-ec6c-d051d7f5ea16"
      },
      "execution_count": 12,
      "outputs": [
        {
          "output_type": "execute_result",
          "data": {
            "text/plain": [
              "array([ True,  True,  True, False])"
            ]
          },
          "metadata": {},
          "execution_count": 12
        }
      ]
    },
    {
      "cell_type": "code",
      "source": [
        "#Total de acertos do nosso modelo:\n",
        "total_acertos = (predicoes == exames).sum()\n",
        "total_acertos"
      ],
      "metadata": {
        "colab": {
          "base_uri": "https://localhost:8080/"
        },
        "id": "enwVkl71sq7A",
        "outputId": "73be717b-4987-4583-8eb4-281b80c6fb8f"
      },
      "execution_count": 13,
      "outputs": [
        {
          "output_type": "execute_result",
          "data": {
            "text/plain": [
              "3"
            ]
          },
          "metadata": {},
          "execution_count": 13
        }
      ]
    },
    {
      "cell_type": "code",
      "source": [
        "total_predicoes = len(dados_teste)\n",
        "total_predicoes"
      ],
      "metadata": {
        "colab": {
          "base_uri": "https://localhost:8080/"
        },
        "id": "YLzs8YN_tKxj",
        "outputId": "77c3ea2c-dc4e-40c6-e0f5-0b7d38821c1d"
      },
      "execution_count": 14,
      "outputs": [
        {
          "output_type": "execute_result",
          "data": {
            "text/plain": [
              "4"
            ]
          },
          "metadata": {},
          "execution_count": 14
        }
      ]
    },
    {
      "cell_type": "code",
      "source": [
        "#Qual foi a nossa taxa de sucesso?\n",
        "taxa_sucesso = total_acertos / total_predicoes *100\n",
        "taxa_sucesso"
      ],
      "metadata": {
        "colab": {
          "base_uri": "https://localhost:8080/"
        },
        "id": "67geueD3tSrL",
        "outputId": "94a6540f-1b40-428d-eb2a-fc6e174f782a"
      },
      "execution_count": 15,
      "outputs": [
        {
          "output_type": "execute_result",
          "data": {
            "text/plain": [
              "75.0"
            ]
          },
          "metadata": {},
          "execution_count": 15
        }
      ]
    },
    {
      "cell_type": "code",
      "source": [
        "print('A taxa de sucesso do seu modelo preditivo foi de ', taxa_sucesso, '%. ')"
      ],
      "metadata": {
        "colab": {
          "base_uri": "https://localhost:8080/"
        },
        "id": "agWeHM98tf5v",
        "outputId": "75c03946-1182-44d3-82c5-186004213df7"
      },
      "execution_count": 16,
      "outputs": [
        {
          "output_type": "stream",
          "name": "stdout",
          "text": [
            "A taxa de sucesso do seu modelo preditivo foi de  75.0 %. \n"
          ]
        }
      ]
    },
    {
      "cell_type": "code",
      "source": [
        "#Para situações mais complexas, usaremos o accuracy score\n",
        "from sklearn.metrics import accuracy_score\n",
        "taxa_sucesso = accuracy_score(total_acertos / total_predicoes)"
      ],
      "metadata": {
        "id": "RqSvUbayuqoX"
      },
      "execution_count": null,
      "outputs": []
    }
  ]
}